{
 "cells": [
  {
   "cell_type": "markdown",
   "id": "4cabf936-a584-435f-b9c3-3dc4f7f15a45",
   "metadata": {
    "tags": []
   },
   "source": [
    "# Ler LOG"
   ]
  },
  {
   "cell_type": "code",
   "execution_count": 2,
   "id": "d0e6a62c-6e43-4162-9905-cd75d3af5ca0",
   "metadata": {
    "tags": []
   },
   "outputs": [
    {
     "name": "stdout",
     "output_type": "stream",
     "text": [
      "+---------+----------+----------+--------------------+-------------+\n",
      "|  hashtag|     desde|       ate|       data_execucao|qtd_registros|\n",
      "+---------+----------+----------+--------------------+-------------+\n",
      "|palmeiras|2023-02-01|2023-02-10|2023_02_14-01:10:...|          100|\n",
      "|   gremio|2023-01-15|2023-02-14|2023_02_14-01:42:...|         1000|\n",
      "+---------+----------+----------+--------------------+-------------+\n",
      "\n"
     ]
    }
   ],
   "source": [
    "from pyspark.sql import SparkSession, SQLContext\n",
    "\n",
    "import warnings\n",
    "warnings.simplefilter(action='ignore', category=FutureWarning)\n",
    "\n",
    "# Cria contexto Spark\n",
    "spark = SparkSession.builder \\\n",
    "    .master('local') \\\n",
    "    .appName('myAppName') \\\n",
    "    .config('spark.executor.memory', '5gb') \\\n",
    "    .config(\"spark.cores.max\", \"6\") \\\n",
    "    .getOrCreate()\n",
    "\n",
    "contexto = spark.sparkContext\n",
    "sqlContext = SQLContext(contexto)\n",
    "\n",
    "# Leitura do parquet\n",
    "#df = sqlContext.read.parquet('../../data/brz/parquet/log_tweets.parquet')\n",
    "df = sqlContext.read.load(path='../../data/brz/parquet/log_tweets.parquet', format = 'parquet')\n",
    "df.show()"
   ]
  },
  {
   "cell_type": "code",
   "execution_count": 4,
   "id": "e024aa33-23b3-4cb6-b6d5-dc63112f23c8",
   "metadata": {
    "tags": []
   },
   "outputs": [
    {
     "name": "stdout",
     "output_type": "stream",
     "text": [
      "root\n",
      " |-- hashtag: string (nullable = true)\n",
      " |-- desde: string (nullable = true)\n",
      " |-- ate: string (nullable = true)\n",
      " |-- data_execucao: string (nullable = true)\n",
      " |-- qtd_registros: integer (nullable = true)\n",
      "\n"
     ]
    }
   ],
   "source": [
    "log = df\n",
    "log.printSchema()"
   ]
  },
  {
   "cell_type": "code",
   "execution_count": null,
   "id": "3b17726c-2ac4-4190-93d4-b0578bd36678",
   "metadata": {},
   "outputs": [],
   "source": []
  }
 ],
 "metadata": {
  "kernelspec": {
   "display_name": "Python 3 (ipykernel)",
   "language": "python",
   "name": "python3"
  },
  "language_info": {
   "codemirror_mode": {
    "name": "ipython",
    "version": 3
   },
   "file_extension": ".py",
   "mimetype": "text/x-python",
   "name": "python",
   "nbconvert_exporter": "python",
   "pygments_lexer": "ipython3",
   "version": "3.10.9"
  }
 },
 "nbformat": 4,
 "nbformat_minor": 5
}
