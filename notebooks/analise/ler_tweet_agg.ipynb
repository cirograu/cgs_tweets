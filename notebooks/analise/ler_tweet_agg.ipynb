{
 "cells": [
  {
   "cell_type": "code",
   "execution_count": 2,
   "id": "d4888305-af81-485e-8421-eda79aea3a6d",
   "metadata": {
    "tags": []
   },
   "outputs": [
    {
     "name": "stdout",
     "output_type": "stream",
     "text": [
      "lido\n",
      "+----------------+----------+------------+---------+\n",
      "|hashtaginformada|qtd_tweets|retweetCount|likeCount|\n",
      "+----------------+----------+------------+---------+\n",
      "|          gremio|       215|         939|    14540|\n",
      "|          santos|       114|         136|     2820|\n",
      "|        flamengo|       100|          64|     1374|\n",
      "+----------------+----------+------------+---------+\n",
      "\n"
     ]
    }
   ],
   "source": [
    "from pyspark.sql import SparkSession, SQLContext\n",
    "from pyspark.sql import functions as Func\n",
    "\n",
    "import warnings\n",
    "warnings.simplefilter(action='ignore', category=FutureWarning)\n",
    "\n",
    "# Cria contexto Spark\n",
    "spark = SparkSession.builder \\\n",
    "    .master('local') \\\n",
    "    .appName('TwitterApp') \\\n",
    "    .config('spark.executor.memory', '5gb') \\\n",
    "    .config(\"spark.cores.max\", \"6\") \\\n",
    "    .getOrCreate()\n",
    "\n",
    "contexto = spark.sparkContext\n",
    "sqlContext = SQLContext(contexto)\n",
    "\n",
    "#df = sqlContext.read.parquet('../../data/svr/parquet/tweets_agg.parquet')\n",
    "df = sqlContext.read.load(path='../../data/svr/parquet/tweets_agg.parquet', format = 'parquet')\n",
    "print('lido')\n",
    "\n",
    "df.createOrReplaceTempView(\"tweets_v\");\n",
    "\n",
    "sql = \"SELECT hashtaginformada, \\\n",
    "            sum(qtd_tweets) qtd_tweets,  \\\n",
    "            sum(retweetCount) retweetCount, \\\n",
    "            sum(likeCount) likeCount \\\n",
    "        FROM tweets_v \\\n",
    "        GROUP BY hashtaginformada \\\n",
    "        ORDER BY likeCount desc\"\n",
    "df_1 = spark.sql(sql);\n",
    "df_1.show()"
   ]
  },
  {
   "cell_type": "code",
   "execution_count": null,
   "id": "5d0afc5b-0860-41a6-b009-3923330549e8",
   "metadata": {},
   "outputs": [],
   "source": []
  },
  {
   "cell_type": "code",
   "execution_count": null,
   "id": "8f38a6f8-8c1c-4282-b49c-9dd684aa9db9",
   "metadata": {},
   "outputs": [],
   "source": []
  }
 ],
 "metadata": {
  "kernelspec": {
   "display_name": "Python 3 (ipykernel)",
   "language": "python",
   "name": "python3"
  },
  "language_info": {
   "codemirror_mode": {
    "name": "ipython",
    "version": 3
   },
   "file_extension": ".py",
   "mimetype": "text/x-python",
   "name": "python",
   "nbconvert_exporter": "python",
   "pygments_lexer": "ipython3",
   "version": "3.10.9"
  }
 },
 "nbformat": 4,
 "nbformat_minor": 5
}
