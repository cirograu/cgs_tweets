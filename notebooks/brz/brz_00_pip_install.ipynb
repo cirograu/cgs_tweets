{
 "cells": [
  {
   "cell_type": "code",
   "execution_count": 1,
   "id": "75cc1968-8fc4-49a1-a0f0-8ab85728ed6b",
   "metadata": {
    "tags": []
   },
   "outputs": [],
   "source": [
    "!pip3 install snscrape --quiet "
   ]
  },
  {
   "cell_type": "code",
   "execution_count": null,
   "id": "a807119d-7912-4f6d-ac67-690f325946bf",
   "metadata": {},
   "outputs": [],
   "source": []
  },
  {
   "cell_type": "code",
   "execution_count": null,
   "id": "da1d1cc2-1239-4391-abfe-64fef530dcda",
   "metadata": {},
   "outputs": [],
   "source": []
  },
  {
   "cell_type": "code",
   "execution_count": null,
   "id": "feb71b84-6b80-4f84-b534-171719513cfc",
   "metadata": {},
   "outputs": [],
   "source": []
  },
  {
   "cell_type": "code",
   "execution_count": null,
   "id": "e7d8fbc7-25cf-4f1d-b3f7-41e85508e862",
   "metadata": {
    "tags": []
   },
   "outputs": [],
   "source": [
    "# Instalação das bibliotecas\n",
    "!pip3 install git+https://github.com/tobe93gf/snscrape.git --quiet\n",
    "!pip3 install ipykernel --quiet\n",
    "!pip3 install snscrape --quiet    \n",
    "!pip3 install pyspark --quiet\n",
    "!pip install wordcloud --quiet\n",
    "!pip install test-utils --quiet\n",
    "\n",
    "#!pip install tweepy --quiet\n",
    "\n",
    "\n",
    "##### Airflow\n",
    "!pip3 install --no-cache-dir apache-airflow-providers-apache-spark --quiet\n",
    "#pip3 install psycopg2 --quiet\n",
    "!pip3 install apache-airflow --quiet\n",
    "!pip3 install apache-airflow-providers-apache-spark --quiet\n",
    "!pip3 install papermill --quiet #ler notebooks no Airflow\n",
    "!pip install apache-airflow-providers-papermill\n",
    "##### Airflow\n"
   ]
  },
  {
   "cell_type": "code",
   "execution_count": 1,
   "id": "79f35f8f-8f2a-4dcf-98e4-57a37c59da32",
   "metadata": {
    "tags": []
   },
   "outputs": [],
   "source": [
    "!pip3 install git+https://github.com/tobe93gf/snscrape.git --quiet"
   ]
  },
  {
   "cell_type": "code",
   "execution_count": 2,
   "id": "d0f69eb7-deff-4a2b-a4fd-f0c898b0746a",
   "metadata": {
    "tags": []
   },
   "outputs": [
    {
     "name": "stdout",
     "output_type": "stream",
     "text": [
      "Requirement already satisfied: twint in /opt/conda/lib/python3.10/site-packages (2.1.20)\n",
      "Requirement already satisfied: schedule in /opt/conda/lib/python3.10/site-packages (from twint) (1.1.0)\n",
      "Requirement already satisfied: fake-useragent in /opt/conda/lib/python3.10/site-packages (from twint) (1.1.1)\n",
      "Requirement already satisfied: aiohttp in /opt/conda/lib/python3.10/site-packages (from twint) (3.8.4)\n",
      "Requirement already satisfied: beautifulsoup4 in /opt/conda/lib/python3.10/site-packages (from twint) (4.11.2)\n",
      "Requirement already satisfied: googletransx in /opt/conda/lib/python3.10/site-packages (from twint) (2.4.2)\n",
      "Requirement already satisfied: pandas in /opt/conda/lib/python3.10/site-packages (from twint) (1.5.3)\n",
      "Requirement already satisfied: aiodns in /opt/conda/lib/python3.10/site-packages (from twint) (3.0.0)\n",
      "Requirement already satisfied: cchardet in /opt/conda/lib/python3.10/site-packages (from twint) (2.1.7)\n",
      "Requirement already satisfied: geopy in /opt/conda/lib/python3.10/site-packages (from twint) (2.3.0)\n",
      "Requirement already satisfied: elasticsearch in /opt/conda/lib/python3.10/site-packages (from twint) (8.6.1)\n",
      "Requirement already satisfied: aiohttp-socks in /opt/conda/lib/python3.10/site-packages (from twint) (0.7.1)\n",
      "Requirement already satisfied: pysocks in /opt/conda/lib/python3.10/site-packages (from twint) (1.7.1)\n",
      "Requirement already satisfied: pycares>=4.0.0 in /opt/conda/lib/python3.10/site-packages (from aiodns->twint) (4.3.0)\n",
      "Requirement already satisfied: aiosignal>=1.1.2 in /opt/conda/lib/python3.10/site-packages (from aiohttp->twint) (1.3.1)\n",
      "Requirement already satisfied: multidict<7.0,>=4.5 in /opt/conda/lib/python3.10/site-packages (from aiohttp->twint) (6.0.4)\n",
      "Requirement already satisfied: yarl<2.0,>=1.0 in /opt/conda/lib/python3.10/site-packages (from aiohttp->twint) (1.8.2)\n",
      "Requirement already satisfied: frozenlist>=1.1.1 in /opt/conda/lib/python3.10/site-packages (from aiohttp->twint) (1.3.3)\n",
      "Requirement already satisfied: attrs>=17.3.0 in /opt/conda/lib/python3.10/site-packages (from aiohttp->twint) (22.2.0)\n",
      "Requirement already satisfied: async-timeout<5.0,>=4.0.0a3 in /opt/conda/lib/python3.10/site-packages (from aiohttp->twint) (4.0.2)\n",
      "Requirement already satisfied: charset-normalizer<4.0,>=2.0 in /opt/conda/lib/python3.10/site-packages (from aiohttp->twint) (2.1.1)\n",
      "Requirement already satisfied: python-socks[asyncio]<3.0.0,>=2.0.0 in /opt/conda/lib/python3.10/site-packages (from aiohttp-socks->twint) (2.1.1)\n",
      "Requirement already satisfied: soupsieve>1.2 in /opt/conda/lib/python3.10/site-packages (from beautifulsoup4->twint) (2.3.2.post1)\n",
      "Requirement already satisfied: elastic-transport<9,>=8 in /opt/conda/lib/python3.10/site-packages (from elasticsearch->twint) (8.4.0)\n",
      "Requirement already satisfied: geographiclib<3,>=1.52 in /opt/conda/lib/python3.10/site-packages (from geopy->twint) (2.0)\n",
      "Requirement already satisfied: requests in /opt/conda/lib/python3.10/site-packages (from googletransx->twint) (2.28.2)\n",
      "Requirement already satisfied: python-dateutil>=2.8.1 in /opt/conda/lib/python3.10/site-packages (from pandas->twint) (2.8.2)\n",
      "Requirement already satisfied: pytz>=2020.1 in /opt/conda/lib/python3.10/site-packages (from pandas->twint) (2022.7.1)\n",
      "Requirement already satisfied: numpy>=1.21.0 in /opt/conda/lib/python3.10/site-packages (from pandas->twint) (1.23.5)\n",
      "Requirement already satisfied: urllib3<2,>=1.26.2 in /opt/conda/lib/python3.10/site-packages (from elastic-transport<9,>=8->elasticsearch->twint) (1.26.14)\n",
      "Requirement already satisfied: certifi in /opt/conda/lib/python3.10/site-packages (from elastic-transport<9,>=8->elasticsearch->twint) (2022.12.7)\n",
      "Requirement already satisfied: cffi>=1.5.0 in /opt/conda/lib/python3.10/site-packages (from pycares>=4.0.0->aiodns->twint) (1.15.1)\n",
      "Requirement already satisfied: six>=1.5 in /opt/conda/lib/python3.10/site-packages (from python-dateutil>=2.8.1->pandas->twint) (1.16.0)\n",
      "Requirement already satisfied: idna>=2.0 in /opt/conda/lib/python3.10/site-packages (from yarl<2.0,>=1.0->aiohttp->twint) (3.4)\n",
      "Requirement already satisfied: pycparser in /opt/conda/lib/python3.10/site-packages (from cffi>=1.5.0->pycares>=4.0.0->aiodns->twint) (2.21)\n",
      "Requirement already satisfied: nest_asyncio in /opt/conda/lib/python3.10/site-packages (1.5.6)\n"
     ]
    }
   ],
   "source": [
    "!pip install twint \n",
    "!pip install nest_asyncio"
   ]
  },
  {
   "cell_type": "code",
   "execution_count": null,
   "id": "7d657486-8ceb-40d5-bd47-cfa9ed1f18c3",
   "metadata": {},
   "outputs": [],
   "source": []
  }
 ],
 "metadata": {
  "kernelspec": {
   "display_name": "Python 3 (ipykernel)",
   "language": "python",
   "name": "python3"
  },
  "language_info": {
   "codemirror_mode": {
    "name": "ipython",
    "version": 3
   },
   "file_extension": ".py",
   "mimetype": "text/x-python",
   "name": "python",
   "nbconvert_exporter": "python",
   "pygments_lexer": "ipython3",
   "version": "3.10.9"
  },
  "vscode": {
   "interpreter": {
    "hash": "a8a665fb77e6f141652f438e91d3c6bd70c89c3a2a9f722dde5eb99cfc767537"
   }
  }
 },
 "nbformat": 4,
 "nbformat_minor": 5
}
