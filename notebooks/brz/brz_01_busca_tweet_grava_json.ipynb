{
 "cells": [
  {
   "cell_type": "markdown",
   "id": "cb5a61a7-1def-4f27-abc8-b453f16693a3",
   "metadata": {},
   "source": [
    "# Busca de Dados do Twitter via snscrape"
   ]
  },
  {
   "cell_type": "code",
   "execution_count": 4,
   "id": "f4877bdd-d263-4b54-9399-03de97fd1a0c",
   "metadata": {
    "tags": []
   },
   "outputs": [
    {
     "name": "stdin",
     "output_type": "stream",
     "text": [
      " gremio\n"
     ]
    },
    {
     "name": "stdout",
     "output_type": "stream",
     "text": [
      "snscrape --jsonl --max-results 1000 twitter-search \"#gremio lang:pt since:2023-02-01 until:2023-02-10\" > /home/jovyan/work/data/brz/json/gremio-tweets.json\n",
      "====================================\n",
      "Busca #gremio Finalizada!\n",
      "====================================\n"
     ]
    }
   ],
   "source": [
    "# Importação de Bibliotecas\n",
    "import os\n",
    "import sys\n",
    "#from snscrape.modules import twitter\n",
    "#import json\n",
    "\n",
    "################################################################\n",
    "# Estas variáveis serão passadas através de Parâmetros  (sys.argv[x])\n",
    "max_linhas = 1000\n",
    "desde = '2023-02-01'\n",
    "ate = '2023-02-10'\n",
    "hashtag = input()\n",
    "#hashtag = sys.argv[1]\n",
    "################################################################ \n",
    "\n",
    "ambiente = \"/home/jovyan/work\"\n",
    "diretorio = '/data/brz/json/'\n",
    "\n",
    "# Comando scrape ()\n",
    "comando = f'snscrape --jsonl --max-results {max_linhas} twitter-search \\\"#{hashtag} lang:pt since:{desde} until:{ate}\\\" > {ambiente}{diretorio}{hashtag}-tweets.json'\n",
    "print(comando)\n",
    "\n",
    "# gera arquivo\n",
    "\n",
    "os.system(comando)\n",
    "\n",
    "print('====================================')\n",
    "print(f'Busca #{hashtag} Finalizada!')\n",
    "print('====================================')"
   ]
  },
  {
   "cell_type": "code",
   "execution_count": null,
   "id": "2e6a0a52-d089-471b-a03d-a43fdeed99fe",
   "metadata": {
    "tags": []
   },
   "outputs": [],
   "source": []
  },
  {
   "cell_type": "code",
   "execution_count": null,
   "id": "09ce199b-2a42-4c06-9379-13a4549b4484",
   "metadata": {},
   "outputs": [],
   "source": []
  },
  {
   "cell_type": "code",
   "execution_count": null,
   "id": "7f23eed6-da32-409a-9018-378521c16040",
   "metadata": {},
   "outputs": [],
   "source": []
  },
  {
   "cell_type": "code",
   "execution_count": 4,
   "id": "a7a87ed2-3357-4445-b59c-84d28d6afb47",
   "metadata": {
    "tags": []
   },
   "outputs": [
    {
     "name": "stdin",
     "output_type": "stream",
     "text": [
      " gremio\n"
     ]
    },
    {
     "name": "stdout",
     "output_type": "stream",
     "text": [
      "====================================\n",
      "Busca #gremio Finalizada!\n",
      "====================================\n"
     ]
    }
   ],
   "source": [
    "# Importação de Bibliotecas\n",
    "#import os\n",
    "import sys\n",
    "from snscrape.modules import twitter\n",
    "import json\n",
    "\n",
    "################################################################\n",
    "# Estas variáveis serão passadas através de Parâmetros  (sys.argv[x])\n",
    "max_linhas = 1000\n",
    "desde = '2023-02-01'\n",
    "ate = '2023-02-10'\n",
    "hashtag = input()\n",
    "\n",
    "#hashtag = 'gremio'\n",
    "\n",
    "#hashtag = sys.argv[1]\n",
    "################################################################ \n",
    "\n",
    "ambiente = \"/home/jovyan/work\"\n",
    "diretorio = '/data/brz/json/'\n",
    "\n",
    "output_filename = f'{ambiente}{diretorio}{hashtag}-tweets.json'\n",
    "with open(output_filename, 'w') as f:\n",
    "    scraper =  twitter.TwitterHashtagScraper(f'{hashtag} since:{desde}')\n",
    "    i = 0\n",
    "    for i, tweet in enumerate(scraper.get_items(), start = 1):\n",
    "        tweet_json = json.loads(tweet.json())\n",
    "        f.write(tweet.json())\n",
    "        f.write('\\n')\n",
    "        f.flush()\n",
    "        if max_linhas and i > max_linhas:\n",
    "            break\n",
    "\n",
    "\n",
    "\n",
    "print('====================================')\n",
    "print(f'Busca #{hashtag} Finalizada!')\n",
    "print('====================================')\n"
   ]
  },
  {
   "cell_type": "code",
   "execution_count": null,
   "id": "663a2829-ff00-410c-8067-013ecd4db0e6",
   "metadata": {},
   "outputs": [],
   "source": []
  }
 ],
 "metadata": {
  "kernelspec": {
   "display_name": "Python 3 (ipykernel)",
   "language": "python",
   "name": "python3"
  },
  "language_info": {
   "codemirror_mode": {
    "name": "ipython",
    "version": 3
   },
   "file_extension": ".py",
   "mimetype": "text/x-python",
   "name": "python",
   "nbconvert_exporter": "python",
   "pygments_lexer": "ipython3",
   "version": "3.10.9"
  },
  "vscode": {
   "interpreter": {
    "hash": "a8a665fb77e6f141652f438e91d3c6bd70c89c3a2a9f722dde5eb99cfc767537"
   }
  }
 },
 "nbformat": 4,
 "nbformat_minor": 5
}
