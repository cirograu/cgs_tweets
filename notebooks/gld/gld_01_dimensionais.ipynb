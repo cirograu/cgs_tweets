{
 "cells": [
  {
   "cell_type": "markdown",
   "id": "4cabf936-a584-435f-b9c3-3dc4f7f15a45",
   "metadata": {
    "tags": []
   },
   "source": [
    "# Gerar Dimensionais"
   ]
  },
  {
   "cell_type": "code",
   "execution_count": 2,
   "id": "d0e6a62c-6e43-4162-9905-cd75d3af5ca0",
   "metadata": {
    "tags": []
   },
   "outputs": [
    {
     "name": "stdout",
     "output_type": "stream",
     "text": [
      "lido\n",
      "+++++++++++++++++++++++++++++++++++++++++\n",
      "Gold dim_periodo.parquet gerado\n",
      "Gold dim_usuario.parquet gerado\n",
      "Gold dim_origem.parquet gerado\n",
      "+++++++++++++++++++++++++++++++++++++++++\n"
     ]
    }
   ],
   "source": [
    "from pyspark.sql import SparkSession, SQLContext\n",
    "from pyspark.sql import functions as Func\n",
    "\n",
    "import warnings\n",
    "warnings.simplefilter(action='ignore', category=FutureWarning)\n",
    "\n",
    "# Cria contexto Spark\n",
    "spark = SparkSession.builder \\\n",
    "    .master('local') \\\n",
    "    .appName('TwitterApp') \\\n",
    "    .config('spark.executor.memory', '5gb') \\\n",
    "    .config(\"spark.cores.max\", \"6\") \\\n",
    "    .getOrCreate()\n",
    "\n",
    "contexto = spark.sparkContext\n",
    "sqlContext = SQLContext(contexto)\n",
    "\n",
    "df = sqlContext.read.parquet('../../data/svr/parquet/tweets.parquet')\n",
    "print('lido')\n",
    "df2 = df.withColumn('data', Func.to_timestamp(Func.substring('date', 1 , 10),\"yyyy-MM-dd\"))\n",
    "\n",
    "#############################################\n",
    "# Dimensional Período\n",
    "#############################################\n",
    "\n",
    "df2.createOrReplaceTempView(\"tweets_v\");\n",
    "df_periodo = spark.sql(\"SELECT DISTINCT data, ano, mes, dia FROM tweets_v \");\n",
    "#df_periodo.show()\n",
    "\n",
    "#Gravar parquet - sempre overwrite\n",
    "df_periodo.write.mode('overwrite').parquet('../../data/gld/parquet/dim_periodo.parquet')\n",
    "print('+++++++++++++++++++++++++++++++++++++++++')\n",
    "print('Gold dim_periodo.parquet gerado')\n",
    "\n",
    "#############################################\n",
    "# Dimensional Usuário\n",
    "#############################################\n",
    "\n",
    "df.createOrReplaceTempView(\"tweets_v2\");\n",
    "sql = \"SELECT  username, displayname, \\\n",
    "            max(followersCount) followersCount, max(friendsCount) friendsCount \\\n",
    "        FROM tweets_v2 \\\n",
    "        GROUP BY username, displayname  \\\n",
    "        ORDER BY username \"\n",
    "df_usuario = spark.sql(sql);\n",
    "#df_usuario.show()\n",
    "\n",
    "#Gravar parquet - sempre overwrite\n",
    "df_usuario.write.mode('overwrite').parquet('../../data/gld/parquet/dim_usuario.parquet')\n",
    "print('Gold dim_usuario.parquet gerado')\n",
    "\n",
    "#############################################\n",
    "# Dimensional Origem\n",
    "#############################################\n",
    "\n",
    "df.createOrReplaceTempView(\"tweets_v3\");\n",
    "sql = \"SELECT DISTINCT UPPER(sourceLabel) sourceLabel \\\n",
    "        FROM tweets_v3 \\\n",
    "        GROUP BY sourceLabel  \\\n",
    "        ORDER BY sourceLabel \"\n",
    "df_origem = spark.sql(sql);\n",
    "\n",
    "df_origem = df_origem.withColumn(\"origem\",\n",
    "                          Func.when(Func.substring('sourceLabel',1,7)=='TWITTER','TWITTER').\n",
    "                           otherwise(df_origem.sourceLabel)\n",
    "                          )\n",
    "df_origem = df_origem.withColumn(\"origem\",\n",
    "                          Func.when(Func.substring('origem',1,9)=='TWEETDECK','TWEETDECK').\n",
    "                           otherwise(df_origem.origem)\n",
    "                          )\n",
    "df_origem = df_origem.withColumn(\"origem\",\n",
    "                          Func.when(Func.substring('origem',1,9)=='FS POSTER','FS POSTER').\n",
    "                           otherwise(df_origem.origem)\n",
    "                          )\n",
    "\n",
    "\n",
    "#Gravar parquet - sempre overwrite\n",
    "df_origem.write.mode('overwrite').parquet('../../data/gld/parquet/dim_origem.parquet')\n",
    "print('Gold dim_origem.parquet gerado')\n",
    "print('+++++++++++++++++++++++++++++++++++++++++')\n"
   ]
  },
  {
   "cell_type": "code",
   "execution_count": null,
   "id": "fcc691c3-6832-4c01-b084-f5a3856bb4e3",
   "metadata": {},
   "outputs": [],
   "source": []
  },
  {
   "cell_type": "code",
   "execution_count": 4,
   "id": "51bdcb09-0f76-4f69-887e-f53edda088d6",
   "metadata": {
    "tags": []
   },
   "outputs": [
    {
     "name": "stdout",
     "output_type": "stream",
     "text": [
      "root\n",
      " |-- data: timestamp (nullable = true)\n",
      " |-- ano: integer (nullable = true)\n",
      " |-- mes: integer (nullable = true)\n",
      " |-- dia: integer (nullable = true)\n",
      "\n"
     ]
    }
   ],
   "source": [
    "dim_periodo = df_periodo\n",
    "dim_periodo.printSchema()"
   ]
  },
  {
   "cell_type": "code",
   "execution_count": 5,
   "id": "4938b643-a825-4498-bccf-d430aee648ec",
   "metadata": {
    "tags": []
   },
   "outputs": [
    {
     "name": "stdout",
     "output_type": "stream",
     "text": [
      "root\n",
      " |-- username: string (nullable = true)\n",
      " |-- displayname: string (nullable = true)\n",
      " |-- followersCount: long (nullable = true)\n",
      " |-- friendsCount: long (nullable = true)\n",
      "\n"
     ]
    }
   ],
   "source": [
    "dim_usuario = df_usuario\n",
    "dim_usuario.printSchema()"
   ]
  },
  {
   "cell_type": "code",
   "execution_count": 6,
   "id": "ee8f08d7-9e20-4d98-b60f-238129a8a949",
   "metadata": {
    "tags": []
   },
   "outputs": [
    {
     "name": "stdout",
     "output_type": "stream",
     "text": [
      "root\n",
      " |-- sourceLabel: string (nullable = true)\n",
      " |-- origem: string (nullable = true)\n",
      "\n"
     ]
    }
   ],
   "source": [
    "dim_origem = df_origem\n",
    "dim_origem.printSchema()"
   ]
  },
  {
   "cell_type": "code",
   "execution_count": null,
   "id": "5c638939-b478-4a5f-ae55-f38b6456c09d",
   "metadata": {},
   "outputs": [],
   "source": []
  }
 ],
 "metadata": {
  "kernelspec": {
   "display_name": "Python 3 (ipykernel)",
   "language": "python",
   "name": "python3"
  },
  "language_info": {
   "codemirror_mode": {
    "name": "ipython",
    "version": 3
   },
   "file_extension": ".py",
   "mimetype": "text/x-python",
   "name": "python",
   "nbconvert_exporter": "python",
   "pygments_lexer": "ipython3",
   "version": "3.10.9"
  }
 },
 "nbformat": 4,
 "nbformat_minor": 5
}
