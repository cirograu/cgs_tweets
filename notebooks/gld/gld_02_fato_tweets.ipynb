{
 "cells": [
  {
   "cell_type": "markdown",
   "id": "4cabf936-a584-435f-b9c3-3dc4f7f15a45",
   "metadata": {
    "tags": []
   },
   "source": [
    "# Gerar Fato Tweets"
   ]
  },
  {
   "cell_type": "code",
   "execution_count": 2,
   "id": "d0e6a62c-6e43-4162-9905-cd75d3af5ca0",
   "metadata": {
    "tags": []
   },
   "outputs": [
    {
     "name": "stdout",
     "output_type": "stream",
     "text": [
      "lido\n",
      "+++++++++++++++++++++++++++++++++++++++++\n",
      "Gold fato_tweets.parquet gerado\n",
      "+++++++++++++++++++++++++++++++++++++++++\n"
     ]
    }
   ],
   "source": [
    "from pyspark.sql import SparkSession, SQLContext\n",
    "from pyspark.sql import functions as Func\n",
    "\n",
    "import warnings\n",
    "warnings.simplefilter(action='ignore', category=FutureWarning)\n",
    "\n",
    "# Cria contexto Spark\n",
    "spark = SparkSession.builder \\\n",
    "    .master('local') \\\n",
    "    .appName('TwitterApp') \\\n",
    "    .config('spark.executor.memory', '5gb') \\\n",
    "    .config(\"spark.cores.max\", \"6\") \\\n",
    "    .getOrCreate()\n",
    "\n",
    "contexto = spark.sparkContext\n",
    "sqlContext = SQLContext(contexto)\n",
    "\n",
    "df = sqlContext.read.parquet('../../data/svr/parquet/tweets.parquet')\n",
    "print('lido')\n",
    "df2 = df.withColumn('data', Func.to_timestamp(Func.substring('date', 1 , 10),\"yyyy-MM-dd\")) \\\n",
    "        .withColumn(\"retweet\",\n",
    "                          Func.when(df.retweetCount > 0,'RETWEET').\n",
    "                           otherwise('NORMAL')\n",
    "                          )\n",
    "\n",
    "#df2.printSchema()\n",
    "\n",
    "#############################################\n",
    "# Gera Fato\n",
    "#############################################\n",
    "\n",
    "df2.createOrReplaceTempView(\"tweets_v\");\n",
    "sql = \"SELECT data, hashtaginformada, \\\n",
    "        username, \\\n",
    "        sourceLabel, \\\n",
    "        texto , \\\n",
    "        location , \\\n",
    "        retweetCount, \\\n",
    "        likeCount, \\\n",
    "        1 tweets,  \\\n",
    "        retweet \\\n",
    "       FROM tweets_v\"\n",
    "\n",
    "df_fato = spark.sql(sql);\n",
    "\n",
    "#Gravar parquet - sempre overwrite\n",
    "df_fato.write.mode('overwrite').parquet('../../data/gld/parquet/fato_tweets.parquet')\n",
    "print('+++++++++++++++++++++++++++++++++++++++++')\n",
    "print('Gold fato_tweets.parquet gerado')\n",
    "print('+++++++++++++++++++++++++++++++++++++++++')\n"
   ]
  },
  {
   "cell_type": "code",
   "execution_count": null,
   "id": "2fc0c584-1a63-4a50-8d24-981e73471860",
   "metadata": {},
   "outputs": [],
   "source": []
  },
  {
   "cell_type": "code",
   "execution_count": 2,
   "id": "c21d7c96-e672-49d7-83f2-6b70223bbc72",
   "metadata": {
    "tags": []
   },
   "outputs": [
    {
     "name": "stdout",
     "output_type": "stream",
     "text": [
      "root\n",
      " |-- data: timestamp (nullable = true)\n",
      " |-- hashtaginformada: string (nullable = true)\n",
      " |-- username: string (nullable = true)\n",
      " |-- sourceLabel: string (nullable = true)\n",
      " |-- texto: string (nullable = true)\n",
      " |-- location: string (nullable = true)\n",
      " |-- retweetCount: integer (nullable = true)\n",
      " |-- likeCount: integer (nullable = true)\n",
      " |-- tweets: integer (nullable = false)\n",
      " |-- retweet: string (nullable = false)\n",
      "\n"
     ]
    }
   ],
   "source": [
    "fato_tweets =  df_fato\n",
    "fato_tweets.printSchema()"
   ]
  },
  {
   "cell_type": "code",
   "execution_count": null,
   "id": "38d89505-47d2-4429-89f5-5ba5572ae345",
   "metadata": {},
   "outputs": [],
   "source": []
  }
 ],
 "metadata": {
  "kernelspec": {
   "display_name": "Python 3 (ipykernel)",
   "language": "python",
   "name": "python3"
  },
  "language_info": {
   "codemirror_mode": {
    "name": "ipython",
    "version": 3
   },
   "file_extension": ".py",
   "mimetype": "text/x-python",
   "name": "python",
   "nbconvert_exporter": "python",
   "pygments_lexer": "ipython3",
   "version": "3.10.9"
  }
 },
 "nbformat": 4,
 "nbformat_minor": 5
}
