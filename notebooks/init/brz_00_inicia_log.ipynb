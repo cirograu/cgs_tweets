{
 "cells": [
  {
   "cell_type": "code",
   "execution_count": 4,
   "id": "45b4934b-bb22-493a-8375-d94acf002565",
   "metadata": {
    "tags": []
   },
   "outputs": [
    {
     "name": "stdout",
     "output_type": "stream",
     "text": [
      "log criado!\n"
     ]
    }
   ],
   "source": [
    "from pyspark.sql import SparkSession\n",
    "from pyspark.sql import functions as Func\n",
    "from pyspark.sql.functions import lit\n",
    "\n",
    "# Cria contexto Spark\n",
    "from pyspark.sql import SparkSession, SQLContext\n",
    "\n",
    "spark = SparkSession.builder \\\n",
    "    .master('local') \\\n",
    "    .appName('TwitterApp') \\\n",
    "    .config('spark.executor.memory', '4gb') \\\n",
    "    .getOrCreate()\n",
    "\n",
    "contexto = spark.sparkContext\n",
    "\n",
    "# Gera DataFrame\n",
    "ambiente = \"/home/jovyan/work\"\n",
    "diretorio = '/datalake/brz/'\n",
    "arquivo = 'log.parquet'\n",
    "caminho_parquet = f'{ambiente}{diretorio}{arquivo}'\n",
    "\n",
    "metadado = (\"hashtag STRING, mes STRING, dia STRING, ano STRING, desde STRING, ate STRING, data_execucao STRING\")\n",
    "\n",
    "dados = [{\"hashtag\":\"inicial\",\\\n",
    "          \"mes\":2,\\\n",
    "          \"dia\":1,\\\n",
    "          \"ano\":2023,\\\n",
    "          \"desde\":\"2023-02-01\",\\\n",
    "          \"ate\":\"2023-02-01\",\\\n",
    "          \"data_execucao\":\"\"}]\n",
    "\n",
    "df = spark.createDataFrame(dados,metadado)\n",
    "type(df)\n",
    "              \n",
    "df.write.mode('overwrite').parquet(caminho_parquet) \n",
    "print('log criado!')"
   ]
  },
  {
   "cell_type": "code",
   "execution_count": null,
   "id": "c2f3cd88-e2ff-41a0-b928-df7697700289",
   "metadata": {},
   "outputs": [],
   "source": []
  },
  {
   "cell_type": "code",
   "execution_count": null,
   "id": "bf18612b-20c6-4f03-999d-dd6856acada9",
   "metadata": {},
   "outputs": [],
   "source": []
  }
 ],
 "metadata": {
  "kernelspec": {
   "display_name": "Python 3 (ipykernel)",
   "language": "python",
   "name": "python3"
  },
  "language_info": {
   "codemirror_mode": {
    "name": "ipython",
    "version": 3
   },
   "file_extension": ".py",
   "mimetype": "text/x-python",
   "name": "python",
   "nbconvert_exporter": "python",
   "pygments_lexer": "ipython3",
   "version": "3.10.9"
  }
 },
 "nbformat": 4,
 "nbformat_minor": 5
}
