{
 "cells": [
  {
   "cell_type": "markdown",
   "id": "4cabf936-a584-435f-b9c3-3dc4f7f15a45",
   "metadata": {
    "tags": []
   },
   "source": [
    "# Gerar Camada Silver\n",
    "Eliminar duplicados e gerar tabela agregada"
   ]
  },
  {
   "cell_type": "code",
   "execution_count": 2,
   "id": "d0e6a62c-6e43-4162-9905-cd75d3af5ca0",
   "metadata": {
    "tags": []
   },
   "outputs": [
    {
     "name": "stdout",
     "output_type": "stream",
     "text": [
      "Bronze lido\n",
      "Silver lido\n",
      "Qtd registros: 1017\n",
      "Qtd registros distintos: 1017\n",
      "Não ocorreu eliminação de distintos\n",
      "bronze tweets_agg.parquet gerado\n",
      "+----------------+----+---+---+----------+------------+---------+\n",
      "|hashtaginformada| ano|mes|dia|qtd_tweets|retweetCount|likeCount|\n",
      "+----------------+----+---+---+----------+------------+---------+\n",
      "|          gremio|2023|  2|  7|        97|         180|     2271|\n",
      "|          gremio|2023|  2|  5|        62|         120|     1438|\n",
      "|          serasa|2023|  2|  1|         3|           0|        0|\n",
      "|          serasa|2023|  2|  8|         1|           0|        0|\n",
      "|          gremio|2023|  2|  9|       233|         461|     6358|\n",
      "|          gremio|2023|  2|  4|       358|        1432|    16881|\n",
      "|          gremio|2023|  2|  6|        62|         177|     2487|\n",
      "|          serasa|2023|  2|  9|         4|           0|        0|\n",
      "|          serasa|2023|  2|  2|         1|           0|        0|\n",
      "|          serasa|2023|  2|  3|         4|           3|        2|\n",
      "|          gremio|2023|  2|  8|       121|         197|     1983|\n",
      "|          gremio|2023|  2|  3|        67|         234|     3121|\n",
      "|          serasa|2023|  2|  6|         4|           0|        8|\n",
      "+----------------+----+---+---+----------+------------+---------+\n",
      "\n"
     ]
    }
   ],
   "source": [
    "from pyspark.sql import SparkSession, SQLContext\n",
    "from pyspark.sql import functions as Func\n",
    "from pyspark.sql.functions import lit\n",
    "\n",
    "import warnings\n",
    "warnings.simplefilter(action='ignore', category=FutureWarning)\n",
    "\n",
    "# Cria contexto Spark\n",
    "spark = SparkSession.builder \\\n",
    "    .master('local') \\\n",
    "    .appName('TwitterApp') \\\n",
    "    .config('spark.executor.memory', '5gb') \\\n",
    "    .config(\"spark.cores.max\", \"6\") \\\n",
    "    .getOrCreate()\n",
    "\n",
    "contexto = spark.sparkContext\n",
    "sqlContext = SQLContext(contexto)\n",
    "\n",
    "df_brz = sqlContext.read.parquet('../../data/brz/parquet/tweets.parquet')\n",
    "print('Bronze lido')\n",
    "\n",
    "df_2 =  df_brz.withColumn(\"retweetCount\",Func.col(\"retweetCount\").cast(\"int\")) \\\n",
    "          .withColumn(\"likeCount\",Func.col(\"likeCount\").cast(\"int\")) \n",
    "\n",
    "try:\n",
    "    df_svr = sqlContext.read.parquet('../../data/svr/parquet/tweets.parquet')\n",
    "    print('Silver lido')\n",
    "except:\n",
    "    #Gravar parquet - sempre overwrite\n",
    "    df_2.write.mode('overwrite').parquet('../../data/svr/parquet/tweets.parquet')\n",
    "    df_2.write.partitionBy(\"hashtaginformada\",\"ano\",\"mes\",\"dia\").mode(\"append\").parquet('../../data/svr/parquet/tweets.parquet')\n",
    "    print('bronze tweets.parquet gerado')\n",
    "    \n",
    "v_qtd_tweets = df_brz.count()\n",
    "\n",
    "distinct_df = df_2.distinct()\n",
    "\n",
    "v_qtd_tweets_distincts = distinct_df.count()\n",
    "\n",
    "print (f'Qtd registros: {v_qtd_tweets}')\n",
    "print (f'Qtd registros distintos: {v_qtd_tweets_distincts}')\n",
    "\n",
    "if v_qtd_tweets > v_qtd_tweets_distincts:\n",
    "    #Gravar parquet - sempre overwrite\n",
    "    distinct_df.write.mode('overwrite').parquet('../../data/svr/parquet/tweets.parquet')\n",
    "    distinct_df.write.partitionBy(\"hashtaginformada\",\"ano\",\"mes\",\"dia\").mode(\"append\").parquet('../../data/svr/parquet/tweets.parquet')\n",
    "    print('bronze tweets.parquet atualiado')\n",
    "else:\n",
    "    print('Não ocorreu eliminação de distintos')\n",
    "\n",
    "distinct_df.createOrReplaceTempView(\"tweets_view\");\n",
    "sql = \"SELECT hashtaginformada, ano, mes, dia, \\\n",
    "count(*) qtd_tweets, sum(retweetCount) retweetCount, sum(likeCount) likeCount \\\n",
    "FROM tweets_view \\\n",
    "group by hashtaginformada, ano, mes, dia\"\n",
    "\n",
    "df_tweets_agg = spark.sql(sql);\n",
    "\n",
    "#Gravar parquet - sempre overwrite\n",
    "df_tweets_agg.write.mode('overwrite').parquet('../../data/svr/parquet/tweets_agg.parquet')\n",
    "df_tweets_agg.write.partitionBy(\"hashtaginformada\",\"ano\").mode(\"append\").parquet('../../data/svr/parquet/tweets_agg.parquet')\n",
    "print('bronze tweets_agg.parquet gerado')    \n",
    "\n",
    "#df_tweets_agg.printSchema()\n",
    "df_tweets_agg.show()\n",
    "spark.stop()\n",
    "    "
   ]
  },
  {
   "cell_type": "code",
   "execution_count": 2,
   "id": "f9fc63d3-15cf-43df-8969-a0fdf3fdd77b",
   "metadata": {
    "tags": []
   },
   "outputs": [],
   "source": []
  },
  {
   "cell_type": "code",
   "execution_count": 2,
   "id": "dce593de-8f94-47b7-b449-9b2b7509a20d",
   "metadata": {
    "tags": []
   },
   "outputs": [
    {
     "ename": "NameError",
     "evalue": "name 'df_distinct' is not defined",
     "output_type": "error",
     "traceback": [
      "\u001b[0;31m---------------------------------------------------------------------------\u001b[0m",
      "\u001b[0;31mNameError\u001b[0m                                 Traceback (most recent call last)",
      "Cell \u001b[0;32mIn[2], line 1\u001b[0m\n\u001b[0;32m----> 1\u001b[0m \u001b[43mdf_distinct\u001b[49m\u001b[38;5;241m.\u001b[39mprintSchema()\n",
      "\u001b[0;31mNameError\u001b[0m: name 'df_distinct' is not defined"
     ]
    }
   ],
   "source": [
    "df_distinct.printSchema()"
   ]
  },
  {
   "cell_type": "code",
   "execution_count": 3,
   "id": "caf8fc70-cd15-4b05-8254-b902e07295f2",
   "metadata": {
    "tags": []
   },
   "outputs": [],
   "source": [
    "svr_tweets_parquet = distinct_df"
   ]
  },
  {
   "cell_type": "code",
   "execution_count": 4,
   "id": "f1ab5cf5-cec6-4175-bfd5-b3e82d4cbf90",
   "metadata": {
    "tags": []
   },
   "outputs": [
    {
     "name": "stdout",
     "output_type": "stream",
     "text": [
      "root\n",
      " |-- ano: integer (nullable = true)\n",
      " |-- mes: integer (nullable = true)\n",
      " |-- dia: integer (nullable = true)\n",
      " |-- hashtaginformada: string (nullable = true)\n",
      " |-- id: long (nullable = true)\n",
      " |-- retweetCount: integer (nullable = true)\n",
      " |-- likeCount: integer (nullable = true)\n",
      " |-- lang: string (nullable = true)\n",
      " |-- sourceLabel: string (nullable = true)\n",
      " |-- texto: string (nullable = true)\n",
      " |-- date: string (nullable = true)\n",
      " |-- hashtags: array (nullable = true)\n",
      " |    |-- element: string (containsNull = true)\n",
      " |-- location: string (nullable = true)\n",
      " |-- displayname: string (nullable = true)\n",
      " |-- username: string (nullable = true)\n",
      " |-- followersCount: long (nullable = true)\n",
      " |-- friendsCount: long (nullable = true)\n",
      "\n"
     ]
    }
   ],
   "source": [
    "svr_tweets_parquet.printSchema()"
   ]
  },
  {
   "cell_type": "code",
   "execution_count": 6,
   "id": "005d0146-f490-4285-b109-db357bef0f47",
   "metadata": {
    "tags": []
   },
   "outputs": [
    {
     "name": "stdout",
     "output_type": "stream",
     "text": [
      "root\n",
      " |-- hashtaginformada: string (nullable = true)\n",
      " |-- ano: integer (nullable = true)\n",
      " |-- mes: integer (nullable = true)\n",
      " |-- dia: integer (nullable = true)\n",
      " |-- qtd_tweets: long (nullable = false)\n",
      " |-- retweetCount: long (nullable = true)\n",
      " |-- likeCount: long (nullable = true)\n",
      "\n"
     ]
    }
   ],
   "source": [
    "svr_tweets_agg = df_tweets_agg\n",
    "svr_tweets_agg.printSchema()"
   ]
  },
  {
   "cell_type": "code",
   "execution_count": null,
   "id": "28f3d377-4227-4730-b1d8-b3af920688ec",
   "metadata": {},
   "outputs": [],
   "source": []
  }
 ],
 "metadata": {
  "kernelspec": {
   "display_name": "Python 3 (ipykernel)",
   "language": "python",
   "name": "python3"
  },
  "language_info": {
   "codemirror_mode": {
    "name": "ipython",
    "version": 3
   },
   "file_extension": ".py",
   "mimetype": "text/x-python",
   "name": "python",
   "nbconvert_exporter": "python",
   "pygments_lexer": "ipython3",
   "version": "3.10.9"
  }
 },
 "nbformat": 4,
 "nbformat_minor": 5
}
